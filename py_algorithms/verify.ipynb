{
 "cells": [
  {
   "cell_type": "code",
   "execution_count": 27,
   "metadata": {},
   "outputs": [],
   "source": [
    "from algorithms import *\n",
    "import msprime\n",
    "import argparse\n",
    "import numpy as np\n",
    "import matplotlib.pyplot as plt\n"
   ]
  },
  {
   "cell_type": "code",
   "execution_count": 28,
   "metadata": {},
   "outputs": [],
   "source": [
    "def verify_hundson_simulate(n_samples, sequence_length, \n",
    "                            recombination_rate, num_replicates):\n",
    "    print('Py version:')\n",
    "    parser = argparse.ArgumentParser()\n",
    "    add_simulator_arguments(parser)\n",
    "    args = parser.parse_args(\"\")\n",
    "\n",
    "    args.recombination_rate = recombination_rate\n",
    "    args.sequence_length = sequence_length\n",
    "    args.sample_size = n_samples\n",
    "    args.num_replicates = num_replicates\n",
    "    args.model = 'hudson'\n",
    "\n",
    "    ts = run_simulate(args)\n",
    "    print(ts.draw_text())\n",
    "\n",
    "    print('C version:')\n",
    "    ms_ts = msprime.sim_ancestry(\n",
    "        samples=10,\n",
    "        recombination_rate=0,\n",
    "        sequence_length=1.0)\n",
    "    print(ms_ts.draw_text())"
   ]
  },
  {
   "cell_type": "code",
   "execution_count": 29,
   "metadata": {},
   "outputs": [],
   "source": [
    "def verify_single_sweep_simulate(n_samples, sequence_length, \n",
    "                                 recombination_rate, num_replicates, \n",
    "                                 population_size, s, dt):\n",
    "    print('Py version:')\n",
    "    parser = argparse.ArgumentParser()\n",
    "    add_simulator_arguments(parser)\n",
    "    args = parser.parse_args(\"\")\n",
    "\n",
    "    args.recombination_rate = recombination_rate\n",
    "    args.sequence_length = sequence_length\n",
    "    args.population_sizes = [population_size]\n",
    "    args.sample_size = n_samples\n",
    "    args.num_replicates = num_replicates\n",
    "    args.time_slice = dt\n",
    "\n",
    "    start_frequency = 1.0 / (2 * population_size)\n",
    "    end_frequency = 1.0 - (1.0 / (2 * population_size))\n",
    "    args.trajectory = [start_frequency, end_frequency, s]\n",
    "    args.model = 'single_sweep'\n",
    "    ts = run_simulate(args)\n",
    "    print(ts.draw_text())\n",
    "    \n",
    "    print('C version:')\n",
    "    # define hard sweep model\n",
    "    sweep_model = msprime.SweepGenicSelection(\n",
    "        position=sequence_length / 2,  # middle of chrom\n",
    "        start_frequency=start_frequency,\n",
    "        end_frequency=end_frequency,\n",
    "        s=s,\n",
    "        dt=dt,\n",
    "    )\n",
    "\n",
    "    reps = msprime.sim_ancestry(\n",
    "        n_samples,\n",
    "        model=sweep_model,\n",
    "        recombination_rate=recombination_rate,\n",
    "        population_size=population_size,\n",
    "        sequence_length=sequence_length,\n",
    "        num_replicates=num_replicates,\n",
    "    )\n",
    "    ts = next(reps, None)\n",
    "    print(ts.draw_text())"
   ]
  },
  {
   "cell_type": "code",
   "execution_count": 30,
   "metadata": {},
   "outputs": [],
   "source": [
    "def verify_single_sweep_diversity(n_samples, sequence_length, \n",
    "                                 recombination_rate, num_replicates, \n",
    "                                 population_size, s, dt):\n",
    "    print('Py version:')\n",
    "    parser = argparse.ArgumentParser()\n",
    "    add_simulator_arguments(parser)\n",
    "    args = parser.parse_args(\"\")\n",
    "\n",
    "    args.recombination_rate = recombination_rate\n",
    "    args.sequence_length = sequence_length\n",
    "    args.population_sizes = [population_size]\n",
    "    args.sample_size = n_samples\n",
    "    args.num_replicates = num_replicates\n",
    "    args.time_slice = dt\n",
    "\n",
    "    start_frequency = 1.0 / (2 * population_size)\n",
    "    end_frequency = 1.0 - (1.0 / (2 * population_size))\n",
    "    args.trajectory = [start_frequency, end_frequency, s]\n",
    "    args.model = 'single_sweep'\n",
    "    \n",
    "    wins = np.linspace(0, args.sequence_length, 21)\n",
    "    mids = (wins[1:] + wins[:-1]) / 2\n",
    "    diversity = np.zeros((args.num_replicates, mids.shape[0]))\n",
    "    \n",
    "    for i in range(num_replicates):\n",
    "        print(i)\n",
    "        ts = run_simulate(args)\n",
    "        diversity[i] = ts.diversity(windows=wins, mode=\"branch\")\n",
    "\n",
    "    plt.plot(mids, diversity.mean(axis=0), label=\"Simulations\")\n",
    "    plt.axhline(4 * args.population_sizes[0], linestyle=\":\", label=r'Neutral expectation')\n",
    "    plt.ylabel(r'Branch $\\pi$')\n",
    "    plt.xlabel('Position (bp)')\n",
    "    plt.legend();\n",
    "    plt.savefig('sweep_diversity_Py_version.png');\n",
    "   \n",
    "    print('C version:')\n",
    "    # define hard sweep model\n",
    "    sweep_model = msprime.SweepGenicSelection(\n",
    "        position=sequence_length / 2,  # middle of chrom\n",
    "        start_frequency=start_frequency,\n",
    "        end_frequency=end_frequency,\n",
    "        s=s,\n",
    "        dt=dt,\n",
    "    )\n",
    "\n",
    "    reps = msprime.sim_ancestry(\n",
    "        n_samples,\n",
    "        model=sweep_model,\n",
    "        recombination_rate=recombination_rate,\n",
    "        population_size=population_size,\n",
    "        sequence_length=sequence_length,\n",
    "        num_replicates=num_replicates,\n",
    "    )\n",
    "    \n",
    "    wins = np.linspace(0, args.sequence_length, 21)\n",
    "    mids = (wins[1:] + wins[:-1]) / 2\n",
    "    diversity = np.zeros((args.num_replicates, mids.shape[0]))\n",
    "\n",
    "    for j, ts in enumerate(reps):\n",
    "        diversity[j] = ts.diversity(windows=wins, mode=\"branch\")\n",
    "\n",
    "    plt.plot(mids, diversity.mean(axis=0), label=\"Simulations\")\n",
    "    plt.axhline(4 * args.population_sizes[0], linestyle=\":\", label=r'Neutral expectation')\n",
    "    plt.ylabel(r'Branch $\\pi$')\n",
    "    plt.xlabel('Position (bp)')\n",
    "    plt.legend();\n",
    "    plt.savefig('sweep_diversity_C_version.png');\n"
   ]
  },
  {
   "cell_type": "code",
   "execution_count": 31,
   "metadata": {},
   "outputs": [
    {
     "name": "stdout",
     "output_type": "stream",
     "text": [
      "Py version:\n",
      "0\n"
     ]
    },
    {
     "name": "stderr",
     "output_type": "stream",
     "text": [
      "2023-08-08 11:03:30,901 [29149] INFO     root: Sweep time=123.154000 remain=0 nodes=19 edges=16\n"
     ]
    },
    {
     "name": "stdout",
     "output_type": "stream",
     "text": [
      "Population  0\n",
      "\tstart_size =  1000.0\n",
      "\tgrowth_rate =  0\n",
      "\tAncestors:  2\n",
      "\tLabel =  0\n",
      "\t\t[0.0, 1000000.0: 0]\n",
      "\t\t[0.0, 1000000.0: 1]\n",
      "\t\t[0.0, 1000000.0: 2]\n",
      "\t\t[0.0, 1000000.0: 3]\n",
      "\t\t[0.0, 1000000.0: 4]\n",
      "\t\t[0.0, 1000000.0: 5]\n",
      "\t\t[0.0, 1000000.0: 6]\n",
      "\t\t[0.0, 1000000.0: 7]\n",
      "\t\t[0.0, 1000000.0: 8]\n",
      "\t\t[0.0, 1000000.0: 9]\n",
      "\tLabel =  1\n"
     ]
    },
    {
     "name": "stderr",
     "output_type": "stream",
     "text": [
      "2023-08-08 11:03:31,074 [29149] INFO     msprime.ancestry: Sampling 5 individuals with ploidy 2 in population 0 (name='pop_0') at time 0\n",
      "2023-08-08 11:03:31,077 [29149] INFO     msprime.ancestry: Starting replicate 0\n",
      "2023-08-08 11:03:31,078 [29149] INFO     msprime.ancestry: model[0] {'name': 'single-sweep', 'locus': 500000.0} started at time=0 nodes=10 edges=0\n",
      "2023-08-08 11:03:31,078 [29149] INFO     msprime.ancestry: Running model {'name': 'single-sweep', 'locus': 500000.0} until max time: inf\n",
      "2023-08-08 11:03:31,080 [29149] INFO     msprime.ancestry: Completed at time=77.812 nodes=19 edges=18\n"
     ]
    },
    {
     "name": "stdout",
     "output_type": "stream",
     "text": [
      "C version:\n"
     ]
    },
    {
     "data": {
      "image/png": "[encoded data removed]",
      "text/plain": [
       "<Figure size 640x480 with 1 Axes>"
      ]
     },
     "metadata": {},
     "output_type": "display_data"
    }
   ],
   "source": [
    "# Call your function\n",
    "verify_single_sweep_diversity(n_samples=5, sequence_length=1e6, \n",
    "\n",
    "                             recombination_rate=0, num_replicates=1, \n",
    "                            population_size=1e3, s=0.25, dt=1e-6)\n"
   ]
  }
 ],
 "metadata": {
  "kernelspec": {
   "display_name": "msprime_stable",
   "language": "python",
   "name": "python3"
  },
  "language_info": {
   "codemirror_mode": {
    "name": "ipython",
    "version": 3
   },
   "file_extension": ".py",
   "mimetype": "text/x-python",
   "name": "python",
   "nbconvert_exporter": "python",
   "pygments_lexer": "ipython3",
   "version": "3.8.17"
  },
  "orig_nbformat": 4
 },
 "nbformat": 4,
 "nbformat_minor": 2
}
