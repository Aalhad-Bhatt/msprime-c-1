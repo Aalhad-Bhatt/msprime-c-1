{
 "cells": [
  {
   "cell_type": "markdown",
   "metadata": {},
   "source": [
    "The following blocks run the original msprime program."
   ]
  },
  {
   "cell_type": "code",
   "execution_count": 1,
   "metadata": {},
   "outputs": [],
   "source": [
    "#This block sets up the simulation\n",
    "import msprime\n",
    "import numpy as np\n",
    "\n",
    "Ne = 20000\n",
    "L = 100  # Length of simulated region\n",
    "num_reps = 5 #Lower number of reps because to ensure fast completion.\n",
    "\n",
    "# define hard sweep model\n",
    "sweep_model = msprime.SweepGenicSelection(\n",
    "    position=(L // 2) - 1,  # middle of chrom\n",
    "    start_frequency=0.000001,\n",
    "    end_frequency=0.999999,\n",
    "    s=0.01,\n",
    "    dt=1e-6,\n",
    ")\n",
    "\n",
    "reps = msprime.sim_ancestry(\n",
    "    100,\n",
    "    model=[sweep_model, msprime.StandardCoalescent()],\n",
    "    population_size=Ne,\n",
    "    recombination_rate=0.25,\n",
    "    sequence_length=L,\n",
    "    num_replicates=num_reps,\n",
    ")\n",
    "\n",
    "wins = np.linspace(0, L, 21)\n",
    "mids = (wins[1:] + wins[:-1]) / 2\n",
    "diversity = np.zeros((num_reps, mids.shape[0]))\n",
    "for j, ts in enumerate(reps):\n",
    "    diversity[j] = ts.diversity(windows=wins, mode=\"branch\")"
   ]
  },
  {
   "cell_type": "code",
   "execution_count": null,
   "metadata": {},
   "outputs": [],
   "source": [
    "#This block plots the result.\n",
    "from matplotlib import pyplot as plt\n",
    "\n",
    "plt.plot(mids, diversity.mean(axis=0), label=\"Simulations\")\n",
    "plt.axhline(4 * Ne, linestyle=\":\", label=r'Neutral expectation')\n",
    "plt.ylabel(r'Branch $\\pi$');\n",
    "plt.xlabel('Position (bp)')\n",
    "plt.legend();\n",
    "plt.show()"
   ]
  },
  {
   "cell_type": "markdown",
   "metadata": {},
   "source": [
    "This code produces a graph similar to the following:\n",
    "\n",
    "![](notebooks/full_img.png)"
   ]
  },
  {
   "cell_type": "markdown",
   "metadata": {},
   "source": [
    "This code runs the equivalent of the following terminal command:\n",
    "\n",
    " python3 algorithms.py 100 out.txt --model single_sweep --trajectory 0.000001 0.999999 400 -r 0.25\n",
    " \n",
    "And prints the output. The first block defines the proper variables and sets up the simulation."
   ]
  },
  {
   "cell_type": "code",
   "execution_count": 6,
   "metadata": {},
   "outputs": [],
   "source": [
    "import sys, argparse\n",
    "from algorithms import add_simulator_arguments\n",
    "\n",
    "sys.argv = ['algorithms.py', \"100\", \"out.txt\", \"--model\", \"single_sweep\", \"--trajectory\", \"0.000001\", \"0.999999\", \"400\", \"-r\", \"0.25\"]\n",
    "parser = argparse.ArgumentParser()\n",
    "add_simulator_arguments(parser)\n",
    "args = parser.parse_args()\n",
    "\n"
   ]
  },
  {
   "cell_type": "markdown",
   "metadata": {},
   "source": [
    "The second block runs the simulation and plots the result."
   ]
  },
  {
   "cell_type": "code",
   "execution_count": null,
   "metadata": {},
   "outputs": [],
   "source": [
    "from algorithms import run_simulate\n",
    "L = 100\n",
    "wins = np.linspace(0, L, 21)\n",
    "mids = (wins[1:] + wins[:-1]) / 2\n",
    "trials = 10\n",
    "d = np.zeros((trials, mids.shape[0]))\n",
    "\n",
    "\n",
    "for loc in range(trials):\n",
    "    ts = run_simulate(args)\n",
    "    d[loc] = ts.diversity(windows=wins, mode='branch')\n",
    "\n",
    "Ne = 20000\n",
    "plt.plot(mids, d.mean(axis=0), label=\"Simulations\")\n",
    "#plt.axhline(4 * Ne, linestyle=\":\", label=r'Neutral expectation')\n",
    "plt.ylabel(r'Branch $\\pi$');\n",
    "plt.xlabel('Position (bp)')\n",
    "plt.legend();\n",
    "\n",
    "plt.show()"
   ]
  },
  {
   "cell_type": "markdown",
   "metadata": {},
   "source": [
    "It typically produces code that looks like the following image:\n",
    "\n",
    "![](notebooks/algorithms_img.png)"
   ]
  }
 ],
 "metadata": {
  "kernelspec": {
   "display_name": "Python 3",
   "language": "python",
   "name": "python3"
  },
  "language_info": {
   "codemirror_mode": {
    "name": "ipython",
    "version": 3
   },
   "file_extension": ".py",
   "mimetype": "text/x-python",
   "name": "python",
   "nbconvert_exporter": "python",
   "pygments_lexer": "ipython3",
   "version": "3.8.17"
  },
  "orig_nbformat": 4
 },
 "nbformat": 4,
 "nbformat_minor": 2
}
